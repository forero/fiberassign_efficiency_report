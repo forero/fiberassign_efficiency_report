{
 "cells": [
  {
   "cell_type": "code",
   "execution_count": 16,
   "metadata": {},
   "outputs": [],
   "source": [
    "import numpy as np\n",
    "import matplotlib.pyplot as plt\n",
    "import pandas as pd"
   ]
  },
  {
   "cell_type": "code",
   "execution_count": 4,
   "metadata": {},
   "outputs": [],
   "source": [
    "legacy_strategy_A = {'eff_qso': {'target_class': 'QSO', 'zcat_class': 'QSO', 'eff': 0.9868021705141176, 'n_avail': 108730, 'n_assign': 107295, 'n_obs': {0: 1435, 1: 78445, 2: 11105, 3: 4208, 4: 13535, 5: 1, 6: 1, 7: 0, 8: 0, 9: 0}}, 'eff_lrg': {'target_class': 'LRG', 'zcat_class': 'GALAXY', 'eff': 0.9538209007722275, 'n_avail': 187639, 'n_assign': 178974, 'n_obs': {0: 8665, 1: 134223, 2: 44751, 3: 0, 4: 0, 5: 0, 6: 0, 7: 0, 8: 0, 9: 0}}, 'eff_elg': {'target_class': 'ELG', 'zcat_class': 'GALAXY', 'eff': 0.7073638593638435, 'n_avail': 1009783, 'n_assign': 714284, 'n_obs': {0: 295499, 1: 714284, 2: 0, 3: 0, 4: 0, 5: 0, 6: 0, 7: 0, 8: 0, 9: 0}}}\n",
    "legacy_noimprove_strategy_A = {'eff_qso': {'target_class': 'QSO', 'zcat_class': 'QSO', 'eff': 0.9868205647015543, 'n_avail': 108730, 'n_assign': 107297, 'n_obs': {0: 1433, 1: 78454, 2: 11113, 3: 4198, 4: 13530, 5: 1, 6: 1, 7: 0, 8: 0, 9: 0}}, 'eff_lrg': {'target_class': 'LRG', 'zcat_class': 'GALAXY', 'eff': 0.953719642505023, 'n_avail': 187639, 'n_assign': 178955, 'n_obs': {0: 8684, 1: 134206, 2: 44749, 3: 0, 4: 0, 5: 0, 6: 0, 7: 0, 8: 0, 9: 0}}, 'eff_elg': {'target_class': 'ELG', 'zcat_class': 'GALAXY', 'eff': 0.7056932033912237, 'n_avail': 1009783, 'n_assign': 712597, 'n_obs': {0: 297186, 1: 712597, 2: 0, 3: 0, 4: 0, 5: 0, 6: 0, 7: 0, 8: 0, 9: 0}}}\n",
    "strategy_A = {'eff_qso': {'target_class': 'QSO', 'zcat_class': 'QSO', 'eff': 0.9852202703945553, 'n_avail': 108730, 'n_assign': 107123, 'n_obs': {0: 1607, 1: 78521, 2: 11267, 3: 4640, 4: 12695, 5: 0, 6: 0, 7: 0, 8: 0, 9: 0}}, 'eff_lrg': {'target_class': 'LRG', 'zcat_class': 'GALAXY', 'eff': 0.9455334207356719, 'n_avail': 187638, 'n_assign': 177418, 'n_obs': {0: 10220, 1: 133933, 2: 43485, 3: 0, 4: 0, 5: 0, 6: 0, 7: 0, 8: 0, 9: 0}}, 'eff_elg': {'target_class': 'ELG', 'zcat_class': 'GALAXY', 'eff': 0.6996875572522864, 'n_avail': 1009785, 'n_assign': 706534, 'n_obs': {0: 303251, 1: 706534, 2: 0, 3: 0, 4: 0, 5: 0, 6: 0, 7: 0, 8: 0, 9: 0}}}\n",
    "\n",
    "legacy_strategy_B ={'eff_qso': {'target_class': 'QSO', 'zcat_class': 'QSO', 'eff': 0.9867101995769337, 'n_avail': 108730, 'n_assign': 107285, 'n_obs': {0: 1445, 1: 78583, 2: 10953, 3: 4223, 4: 13524, 5: 1, 6: 1, 7: 0, 8: 0, 9: 0}}, 'eff_lrg': {'target_class': 'LRG', 'zcat_class': 'GALAXY', 'eff': 0.953767606947383, 'n_avail': 187639, 'n_assign': 178964, 'n_obs': {0: 8675, 1: 134208, 2: 44756, 3: 0, 4: 0, 5: 0, 6: 0, 7: 0, 8: 0, 9: 0}}, 'eff_elg': {'target_class': 'ELG', 'zcat_class': 'GALAXY', 'eff': 0.716843123720641, 'n_avail': 1009783, 'n_assign': 723856, 'n_obs': {0: 285927, 1: 723856, 2: 0, 3: 0, 4: 0, 5: 0, 6: 0, 7: 0, 8: 0, 9: 0}}}\n",
    "legacy_noimprove_strategy_B ={'eff_qso': {'target_class': 'QSO', 'zcat_class': 'QSO', 'eff': 0.9868389588889911, 'n_avail': 108730, 'n_assign': 107299, 'n_obs': {0: 1431, 1: 78458, 2: 11106, 3: 4192, 4: 13541, 5: 1, 6: 1, 7: 0, 8: 0, 9: 0}}, 'eff_lrg': {'target_class': 'LRG', 'zcat_class': 'GALAXY', 'eff': 0.9536556899152095, 'n_avail': 187639, 'n_assign': 178943, 'n_obs': {0: 8696, 1: 134180, 2: 44763, 3: 0, 4: 0, 5: 0, 6: 0, 7: 0, 8: 0, 9: 0}}, 'eff_elg': {'target_class': 'ELG', 'zcat_class': 'GALAXY', 'eff': 0.7056456684257905, 'n_avail': 1009783, 'n_assign': 712549, 'n_obs': {0: 297234, 1: 712549, 2: 0, 3: 0, 4: 0, 5: 0, 6: 0, 7: 0, 8: 0, 9: 0}}}\n",
    "strategy_B ={'eff_qso': {'target_class': 'QSO', 'zcat_class': 'QSO', 'eff': 0.9852202703945553, 'n_avail': 108730, 'n_assign': 107123, 'n_obs': {0: 1607, 1: 78660, 2: 11122, 3: 4641, 4: 12700, 5: 0, 6: 0, 7: 0, 8: 0, 9: 0}}, 'eff_lrg': {'target_class': 'LRG', 'zcat_class': 'GALAXY', 'eff': 0.945458808983255, 'n_avail': 187638, 'n_assign': 177404, 'n_obs': {0: 10234, 1: 133939, 2: 43465, 3: 0, 4: 0, 5: 0, 6: 0, 7: 0, 8: 0, 9: 0}}, 'eff_elg': {'target_class': 'ELG', 'zcat_class': 'GALAXY', 'eff': 0.7078001752848379, 'n_avail': 1009785, 'n_assign': 714726, 'n_obs': {0: 295059, 1: 714726, 2: 0, 3: 0, 4: 0, 5: 0, 6: 0, 7: 0, 8: 0, 9: 0}}}"
   ]
  },
  {
   "cell_type": "code",
   "execution_count": 47,
   "metadata": {},
   "outputs": [
    {
     "name": "stdout",
     "output_type": "stream",
     "text": [
      "[[1435], [78445], [11105], [4208], [13535], [1], [1], [0], [0], [0]]\n"
     ]
    }
   ],
   "source": [
    "print([[i] for i in legacy_strategy_A['eff_qso']['n_obs'].values()])"
   ]
  },
  {
   "cell_type": "code",
   "execution_count": 64,
   "metadata": {},
   "outputs": [],
   "source": [
    "def print_results(results):\n",
    "    qso = [i for i in results['eff_qso']['n_obs'].values()]\n",
    "    lrg = [i for i in results['eff_lrg']['n_obs'].values()]\n",
    "    elg = [i for i in results['eff_elg']['n_obs'].values()]\n",
    "    print(qso, np.sum(qso[1:])/np.sum(qso))\n",
    "    print(lrg, np.sum(lrg[1:])/np.sum(lrg))\n",
    "    print(elg, np.sum(elg[1:])/np.sum(elg))"
   ]
  },
  {
   "cell_type": "code",
   "execution_count": 60,
   "metadata": {},
   "outputs": [
    {
     "name": "stdout",
     "output_type": "stream",
     "text": [
      "[1607, 78521, 11267, 4640, 12695, 0, 0, 0, 0, 0] 0.9852202703945553\n",
      "[10220, 133933, 43485, 0, 0, 0, 0, 0, 0, 0] 0.9455334207356719\n",
      "[303251, 706534, 0, 0, 0, 0, 0, 0, 0, 0] 0.6996875572522864\n"
     ]
    }
   ],
   "source": [
    "print_results(strategy_A)"
   ]
  },
  {
   "cell_type": "code",
   "execution_count": 65,
   "metadata": {},
   "outputs": [
    {
     "name": "stdout",
     "output_type": "stream",
     "text": [
      "[1435, 78445, 11105, 4208, 13535, 1, 1, 0, 0, 0] 0.9868021705141176\n",
      "[8665, 134223, 44751, 0, 0, 0, 0, 0, 0, 0] 0.9538209007722275\n",
      "[295499, 714284, 0, 0, 0, 0, 0, 0, 0, 0] 0.7073638593638435\n"
     ]
    }
   ],
   "source": [
    "print_results(legacy_strategy_A)"
   ]
  },
  {
   "cell_type": "code",
   "execution_count": 66,
   "metadata": {},
   "outputs": [
    {
     "name": "stdout",
     "output_type": "stream",
     "text": [
      "[1433, 78454, 11113, 4198, 13530, 1, 1, 0, 0, 0] 0.9868205647015543\n",
      "[8684, 134206, 44749, 0, 0, 0, 0, 0, 0, 0] 0.953719642505023\n",
      "[297186, 712597, 0, 0, 0, 0, 0, 0, 0, 0] 0.7056932033912237\n"
     ]
    }
   ],
   "source": [
    "print_results(legacy_noimprove_strategy_A)"
   ]
  },
  {
   "cell_type": "code",
   "execution_count": 68,
   "metadata": {},
   "outputs": [
    {
     "name": "stdout",
     "output_type": "stream",
     "text": [
      "[1607, 78660, 11122, 4641, 12700, 0, 0, 0, 0, 0] 0.9852202703945553\n",
      "[10234, 133939, 43465, 0, 0, 0, 0, 0, 0, 0] 0.945458808983255\n",
      "[295059, 714726, 0, 0, 0, 0, 0, 0, 0, 0] 0.7078001752848379\n"
     ]
    }
   ],
   "source": [
    "print_results(strategy_B)"
   ]
  },
  {
   "cell_type": "code",
   "execution_count": 69,
   "metadata": {},
   "outputs": [
    {
     "name": "stdout",
     "output_type": "stream",
     "text": [
      "[1445, 78583, 10953, 4223, 13524, 1, 1, 0, 0, 0] 0.9867101995769337\n",
      "[8675, 134208, 44756, 0, 0, 0, 0, 0, 0, 0] 0.953767606947383\n",
      "[285927, 723856, 0, 0, 0, 0, 0, 0, 0, 0] 0.716843123720641\n"
     ]
    }
   ],
   "source": [
    "print_results(legacy_strategy_B)"
   ]
  },
  {
   "cell_type": "code",
   "execution_count": 70,
   "metadata": {},
   "outputs": [
    {
     "name": "stdout",
     "output_type": "stream",
     "text": [
      "[1431, 78458, 11106, 4192, 13541, 1, 1, 0, 0, 0] 0.9868389588889911\n",
      "[8696, 134180, 44763, 0, 0, 0, 0, 0, 0, 0] 0.9536556899152095\n",
      "[297234, 712549, 0, 0, 0, 0, 0, 0, 0, 0] 0.7056456684257905\n"
     ]
    }
   ],
   "source": [
    "print_results(legacy_noimprove_strategy_B)"
   ]
  },
  {
   "cell_type": "code",
   "execution_count": null,
   "metadata": {},
   "outputs": [],
   "source": []
  }
 ],
 "metadata": {
  "kernelspec": {
   "display_name": "Python 3",
   "language": "python",
   "name": "python3"
  },
  "language_info": {
   "codemirror_mode": {
    "name": "ipython",
    "version": 3
   },
   "file_extension": ".py",
   "mimetype": "text/x-python",
   "name": "python",
   "nbconvert_exporter": "python",
   "pygments_lexer": "ipython3",
   "version": "3.6.10"
  }
 },
 "nbformat": 4,
 "nbformat_minor": 4
}
